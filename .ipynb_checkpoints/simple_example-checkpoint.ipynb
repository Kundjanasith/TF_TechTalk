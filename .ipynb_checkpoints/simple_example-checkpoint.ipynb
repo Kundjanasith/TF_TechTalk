{
 "cells": [
  {
   "cell_type": "code",
   "execution_count": 1,
   "metadata": {},
   "outputs": [],
   "source": [
    "import tensorflow as tf #import tensorflow library"
   ]
  },
  {
   "cell_type": "code",
   "execution_count": 2,
   "metadata": {},
   "outputs": [
    {
     "name": "stdout",
     "output_type": "stream",
     "text": [
      "x = 3.0\n",
      "a = 5.0\n",
      "y = 8.0\n"
     ]
    }
   ],
   "source": [
    "g = tf.Graph() #Create computational graph\n",
    "with g.as_default(): #Loop initial node in graph\n",
    "    x = tf.placeholder(dtype=tf.float32, name='x') #Node x placeholder\n",
    "    a = tf.constant(5, dtype=tf.float32, name='a') #Node a = 5\n",
    "    y = x + a #Node y = x + a\n",
    "\n",
    "x_val = 3.0 #Freeze x = 3\n",
    "feed_dict = {x: x_val} \n",
    "sess = tf.Session(graph=g)\n",
    "print('x = {0}'.format(sess.run(x, feed_dict=feed_dict)))\n",
    "print('a = {0}'.format(sess.run(a)))\n",
    "print('y = {0}'.format(sess.run(y, feed_dict=feed_dict)))"
   ]
  },
  {
   "cell_type": "code",
   "execution_count": 3,
   "metadata": {},
   "outputs": [
    {
     "name": "stdout",
     "output_type": "stream",
     "text": [
      "\n",
      "x = 3.0\n",
      "a = 5.0\n",
      "b = 7.0\n",
      "z = 15.0\n"
     ]
    }
   ],
   "source": [
    "with g.as_default():\n",
    "    b = tf.Variable(7, dtype=tf.float32, name='b') #Variable value b is optmize as job ( b =7 )\n",
    "    z = x + a + b \n",
    "    init_op = tf.global_variables_initializer() #Before do everything with variable is initializer\n",
    "\n",
    "sess.run(init_op)\n",
    "print()\n",
    "print('x = {0}'.format(sess.run(x, feed_dict=feed_dict)))\n",
    "print('a = {0}'.format(sess.run(a)))\n",
    "print('b = {0}'.format(sess.run(b)))\n",
    "print('z = {0}'.format(sess.run(z, feed_dict=feed_dict)))"
   ]
  },
  {
   "cell_type": "code",
   "execution_count": 4,
   "metadata": {},
   "outputs": [],
   "source": [
    "with g.as_default(): #Create optimizer object\n",
    "    optimizer = tf.train.GradientDescentOptimizer(0.1) #Gradient Descent Optimizer\n",
    "    train_op = optimizer.minimize(z) #Minimize optimizer"
   ]
  },
  {
   "cell_type": "code",
   "execution_count": 9,
   "metadata": {},
   "outputs": [
    {
     "name": "stdout",
     "output_type": "stream",
     "text": [
      "\n",
      "x = 3.0\n",
      "a = 5.0\n",
      "b = 6.600000381469727\n",
      "z = 14.600000381469727\n"
     ]
    }
   ],
   "source": [
    "sess.run(train_op, feed_dict=feed_dict)\n",
    "print()\n",
    "print('x = {0}'.format(sess.run(x, feed_dict=feed_dict)))\n",
    "print('a = {0}'.format(sess.run(a)))\n",
    "print('b = {0}'.format(sess.run(b))) #B update descend 0.1\n",
    "print('z = {0}'.format(sess.run(z, feed_dict=feed_dict)))"
   ]
  },
  {
   "cell_type": "code",
   "execution_count": 10,
   "metadata": {},
   "outputs": [
    {
     "name": "stdout",
     "output_type": "stream",
     "text": [
      "b = 7.0\n"
     ]
    }
   ],
   "source": [
    "new_sess = tf.Session(graph=g)\n",
    "new_sess.run(init_op)\n",
    "print('b = {0}'.format(new_sess.run(b))) #Value is in session not in graph"
   ]
  },
  {
   "cell_type": "code",
   "execution_count": null,
   "metadata": {
    "collapsed": true
   },
   "outputs": [],
   "source": []
  }
 ],
 "metadata": {
  "kernelspec": {
   "display_name": "Python 3",
   "language": "python",
   "name": "python3"
  },
  "language_info": {
   "codemirror_mode": {
    "name": "ipython",
    "version": 3
   },
   "file_extension": ".py",
   "mimetype": "text/x-python",
   "name": "python",
   "nbconvert_exporter": "python",
   "pygments_lexer": "ipython3",
   "version": "3.6.1"
  }
 },
 "nbformat": 4,
 "nbformat_minor": 2
}
