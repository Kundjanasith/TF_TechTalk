{
 "cells": [
  {
   "cell_type": "markdown",
   "metadata": {},
   "source": [
    "First, we import neccessary libraries."
   ]
  },
  {
   "cell_type": "code",
   "execution_count": 5,
   "metadata": {},
   "outputs": [],
   "source": [
    "import matplotlib\n",
    "import matplotlib.pyplot as plt\n",
    "import numpy as np\n",
    "import os\n",
    "import tensorflow as tf\n",
    "import shutil\n",
    "\n",
    "matplotlib.rcParams['figure.figsize'] = (10, 6)\n",
    "matplotlib.rcParams['xtick.direction'] = 'out'\n",
    "matplotlib.rcParams['ytick.direction'] = 'out'\n",
    "\n",
    "%matplotlib inline"
   ]
  },
  {
   "cell_type": "markdown",
   "metadata": {},
   "source": [
    "# Creating Fake Data\n",
    "Here we create a fake data $x$ and $y$. The fake data we will use is a Gaussian function with some additive Gaussian noise.\n",
    "$$\n",
    "y = A \\exp\\left[-\\frac{(x-x_0)^2}{2\\sigma^2}\\right] + \\nu\n",
    "$$\n",
    "where\n",
    "$$\n",
    "\\nu \\sim \\mathcal{N}(0, \\alpha A)\n",
    "$$\n",
    "The function has 3 parameters: $A$, $x_0$ and $\\sigma$, and $\\alpha$ is the noise level. We will pretend that we do not know these parameters and can only observe the $x$ and $y$ data. Later we will try to estimate the function parameters."
   ]
  },
  {
   "cell_type": "code",
   "execution_count": 2,
   "metadata": {},
   "outputs": [],
   "source": [
    "def fake_data(num=1000, noise=0.2):\n",
    "    \"\"\"Generates fake data.\n",
    "\n",
    "    Generates fake data with x in [-10, 10] and y follows\n",
    "        y = A * exp((x-x0)^2 / 2sigma^2) + nu\n",
    "    where nu is an additive Gaussian noise\n",
    "        nu ~ N(0, noise * A)\n",
    "\n",
    "    Args:\n",
    "        num (int): Number of data points to generate.\n",
    "        noise (float): Noise level.\n",
    "\n",
    "    Returns:\n",
    "        tuple: (data, parameters)\n",
    "        \n",
    "        data is a tuple (x, y). Both of them are numpy array.\n",
    "        parameters is a tuple (A, x0, sigma).\n",
    "\n",
    "    \"\"\"\n",
    "    A = np.random.uniform(1, 10, [])\n",
    "    x0 = np.random.uniform(-10, 10, [])\n",
    "    sigma = np.random.uniform(0.5, 5, [])\n",
    "    x = np.linspace(-10, 10, num)\n",
    "    y = A * np.exp(-(x-x0)**2 / (2*sigma**2))\n",
    "    y += np.random.normal(0, noise * A, y.shape)\n",
    "    return (x, y), (A, x0, sigma)"
   ]
  },
  {
   "cell_type": "markdown",
   "metadata": {},
   "source": [
    "Here we run the `fake_data` function to generate the ground truth parameters and the data."
   ]
  },
  {
   "cell_type": "code",
   "execution_count": 11,
   "metadata": {},
   "outputs": [
    {
     "data": {
      "text/plain": [
       "[<matplotlib.lines.Line2D at 0x10e614d68>]"
      ]
     },
     "execution_count": 11,
     "metadata": {},
     "output_type": "execute_result"
    },
    {
     "data": {
      "image/png": "[encoded data removed]",
      "text/plain": [
       "<matplotlib.figure.Figure at 0x10e2f8978>"
      ]
     },
     "metadata": {},
     "output_type": "display_data"
    }
   ],
   "source": [
    "(data_x, data_y), (A_truth, x0_truth, sigma_truth) = fake_data()\n",
    "plt.plot(data_x, data_y)"
   ]
  },
  {
   "cell_type": "markdown",
   "metadata": {},
   "source": [
    "# TensorFlow Graph\n",
    "Now, let's create a tensorflow graph and define a model which we will use to fit the data. The graph should have a placeholder to take $x$ as an input. Also, it should defines tensorflow variables for the parameters $A$, $x_0$ and $\\sigma$. Finally, it should have a node which computes $y$.\n",
    "\n",
    "<br>\n",
    "<font color=red>__EXERCISE 1.1: Finish defining the model__</font>"
   ]
  },
  {
   "cell_type": "code",
   "execution_count": 18,
   "metadata": {},
   "outputs": [],
   "source": [
    "g = tf.Graph()\n",
    "with g.as_default(): \n",
    "    x = tf.placeholder(dtype=tf.float32, name='x')\n",
    "    with tf.variable_scope('model', values=[x]):\n",
    "        A = tf.get_variable('A', shape=[], dtype=tf.float32, initializer=tf.constant_initializer(1))\n",
    "        \n",
    "        x0 = tf.get_variable('x0',shape=[], dtype=tf.float32, initializer=tf.constant_initializer(1))\n",
    "        sigma = tf.get_variable('s',shape=[], dtype=tf.float32, initializer=tf.constant_initializer(1))\n",
    "        y = A * tf.exp(-(x-x0)**2 / (2*sigma**2))\n",
    "        # EXERCISE 1.1: Finish defining the model.\n",
    "        # x0 = ...\n",
    "        # sigma = ...\n",
    "        # y = ...\n",
    "\n",
    "        init_op = tf.global_variables_initializer()"
   ]
  },
  {
   "cell_type": "markdown",
   "metadata": {},
   "source": [
    "The code below writes the graph into the log directory (default to `./log`). TensorBoard should not be launched before running the code below."
   ]
  },
  {
   "cell_type": "code",
   "execution_count": 19,
   "metadata": {
    "scrolled": true
   },
   "outputs": [],
   "source": [
    "if os.path.exists('./log'):\n",
    "    shutil.rmtree('./log')\n",
    "writer = tf.summary.FileWriter(\"./log\", g)"
   ]
  },
  {
   "cell_type": "markdown",
   "metadata": {},
   "source": [
    "Now let's run TensorBoard to view the graph by running the command:\n",
    "> `tensorboard --logdir=PATH_TO_LOGDIR`\n",
    "\n",
    "Then, view the TensorBoard in the browser by going to:\n",
    "> `localhost:6006`\n",
    "\n",
    "<br>\n",
    "<font color=red>\n",
    "__QUESTION 1.1: Does the TensorFlow graph look sensible to you? Can you find $A$, $x_0$ and $\\sigma$ variables in the graph?__\n",
    "</font>"
   ]
  },
  {
   "cell_type": "markdown",
   "metadata": {},
   "source": [
    "Next, let's run our model with `data_x` we have generated and plot the result. Here the graph shows a Gaussian function with the initialized parameters $A$, $x_0$ and $\\sigma$. Note here that the `init_op` need to be run to initialize the parameter variables. \n",
    "\n",
    "<br>\n",
    "<font color=red>\n",
    "__EXERCISE 1.2: Run the model to get $y$ and plot it against $x$.__\n",
    "</font>"
   ]
  },
  {
   "cell_type": "code",
   "execution_count": 24,
   "metadata": {},
   "outputs": [
    {
     "data": {
      "text/plain": [
       "[<matplotlib.lines.Line2D at 0x10ed67ef0>]"
      ]
     },
     "execution_count": 24,
     "metadata": {},
     "output_type": "execute_result"
    },
    {
     "data": {
      "image/png": "[encoded data removed]",
      "text/plain": [
       "<matplotlib.figure.Figure at 0x10ec77e10>"
      ]
     },
     "metadata": {},
     "output_type": "display_data"
    }
   ],
   "source": [
    "sess = tf.Session(graph=g)\n",
    "sess.run(init_op)\n",
    "\n",
    "# EXERCISE 1.2: Run the model to get y and plot it against x.\n",
    "# y_result = ...\n",
    "y_result = sess.run(y, feed_dict={x: data_x})\n",
    "\n",
    "plt.plot(data_x, y_result)"
   ]
  },
  {
   "cell_type": "markdown",
   "metadata": {},
   "source": [
    "## Gradients\n",
    "Before fitting the data, let's take a side step and explore gradient computation in Tensorflow. The op for gradient computation can be created with `tf.gradients`. In the example below, we add an op which takes gradient of $y$ with respect to $x$ into the same TensorFlow graph we have created above. Also, we try computing the gradient and the gradient. Then, we plot the result."
   ]
  },
  {
   "cell_type": "code",
   "execution_count": null,
   "metadata": {},
   "outputs": [],
   "source": [
    "with g.as_default():\n",
    "    with tf.name_scope('derivatives', values=[y, x]):\n",
    "        dydx = tf.gradients(y, x)\n",
    "        d2ydx2 = tf.gradients(dydx, x)\n",
    "writer.add_graph(g)\n",
    "dydx_result = sess.run(dydx, feed_dict={x: data_x})[0].flatten()\n",
    "d2ydx2_result = sess.run(d2ydx2, feed_dict={x: data_x})[0].flatten()\n",
    "\n",
    "plt.plot(data_x, y_result)\n",
    "plt.plot(data_x, dydx_result)\n",
    "plt.plot(data_x, d2ydx2_result)"
   ]
  },
  {
   "cell_type": "markdown",
   "metadata": {},
   "source": [
    "If we refresh the TensorBoard, we should see new nodes in the graph for computing derivaties.\n",
    "\n",
    "<br>\n",
    "<font color=red>\n",
    "__QUESTION 1.2: Does the plot look sensible to you?__ <br>\n",
    "__QUESTION 1.3: Can you find automatic differentiation (chain-rule) nodes in the TensorFlow graph?__\n",
    "</font>"
   ]
  },
  {
   "cell_type": "markdown",
   "metadata": {},
   "source": [
    "## Fitting the Data\n",
    "Next, we will try to fit our model to the (noisy) data generated. First, let's plot $y$ from the data and from the model for comparison. Currently, the model and the data does not agree at all."
   ]
  },
  {
   "cell_type": "code",
   "execution_count": null,
   "metadata": {},
   "outputs": [],
   "source": [
    "plt.plot(data_x, data_y)\n",
    "plt.plot(data_x, y_result)"
   ]
  },
  {
   "cell_type": "markdown",
   "metadata": {},
   "source": [
    "We will add nodes to the TensorFlow graph needed for optimizing the model parameters using a gradient based method. We also add summary nodes in order to view the evolution of the model parameters in TensorBoard. The `global_step` variable is used for keeping track of the number of steps we train the model. Note that `trainble` needs to be set to `False` for the `global_step` so the optimizer knows not to update this variable (normally the optimizer updates all trainable variables). Also, since we introduce a new variable, we need to redefine the `init_op` for initializing all variables in a session.\n",
    "\n",
    "<br>\n",
    "<font color=red>\n",
    "__EXERCISE 1.3: Define the model loss and an op for training the model.__\n",
    "</font>"
   ]
  },
  {
   "cell_type": "code",
   "execution_count": null,
   "metadata": {
    "collapsed": true
   },
   "outputs": [],
   "source": [
    "with g.as_default():\n",
    "    global_step = tf.Variable(0, trainable=False, name='global_step')\n",
    "    with tf.name_scope('training', values=[global_step, y]):\n",
    "        y_actual = tf.placeholder(dtype=tf.float32, name='y_actual')\n",
    "        \n",
    "        # EXERCISE 1.3: Define the model loss and an op for training the model.\n",
    "        # loss = ...\n",
    "        # optimizer = ...\n",
    "        # train_op = ...\n",
    "    \n",
    "    loss_summary = tf.summary.scalar('loss', loss)\n",
    "    A_summary = tf.summary.scalar('A', A)\n",
    "    x0_summary = tf.summary.scalar('x0', x0)\n",
    "    sigma_summary = tf.summary.scalar('sigma', sigma)\n",
    "    init_op = tf.global_variables_initializer()\n",
    "    summary_op = tf.summary.merge_all()\n",
    "\n",
    "writer.add_graph(g)"
   ]
  },
  {
   "cell_type": "markdown",
   "metadata": {},
   "source": [
    "Again if we refresh the TensorBoard now, we should see the nodes for model optimization added to the graph.\n",
    "\n",
    "Now, let's run the optimization.\n",
    "\n",
    "<br>\n",
    "<font color=red>\n",
    "__EXERCISE 1.4: Run the train op and produce summary.__\n",
    "</font>"
   ]
  },
  {
   "cell_type": "code",
   "execution_count": null,
   "metadata": {},
   "outputs": [],
   "source": [
    "MAX_STEPS = 500\n",
    "sess.run(init_op)\n",
    "while (True):\n",
    "    i = sess.run(global_step)\n",
    "    \n",
    "    _, summary = \n",
    "    # EXERCISE 1.4: Run the train op and produce summary.\n",
    "    # _, summary = ...\n",
    "    \n",
    "    writer.add_summary(summary, i)\n",
    "    if i % 100 == 0:\n",
    "        print(i)\n",
    "    if i > MAX_STEPS:\n",
    "        break\n",
    "writer.close()"
   ]
  },
  {
   "cell_type": "markdown",
   "metadata": {},
   "source": [
    "Finally, our model is optimized and let's compare $y$ from the data with one predicted by the model. Also, compare the ground truth parameters to ones optimized by our model. The evolution of the model loss and model parameters can be found in TensorBoard scalar tab.\n",
    "\n",
    "<br>\n",
    "<font color=red>\n",
    "__QUESTION 1.4: How do the model parameters compare to the ground truth?__ <br>\n",
    "__QUESTION 1.5: How fast do the model parameters converge? How fast does the loss decrease?__\n",
    "</font>"
   ]
  },
  {
   "cell_type": "code",
   "execution_count": null,
   "metadata": {},
   "outputs": [],
   "source": [
    "predicted_y = sess.run(y, feed_dict={x: data_x})\n",
    "plt.plot(data_x, data_y)\n",
    "plt.plot(data_x, predicted_y)\n",
    "A_fitted, x0_fitted, sigma_fitted = sess.run([A, x0, sigma])\n",
    "print('A_truth = {0}, A_fitted = {1}'.format(A_truth, A_fitted))\n",
    "print('x0_truth = {0}, x0_fitted = {1}'.format(x0_truth, x0_fitted))\n",
    "print('sigma_truth = {0}, sigma_fitted = {1}'.format(sigma_truth, sigma_fitted))"
   ]
  },
  {
   "cell_type": "code",
   "execution_count": null,
   "metadata": {
    "collapsed": true
   },
   "outputs": [],
   "source": []
  }
 ],
 "metadata": {
  "kernelspec": {
   "display_name": "Python 3",
   "language": "python",
   "name": "python3"
  },
  "language_info": {
   "codemirror_mode": {
    "name": "ipython",
    "version": 3
   },
   "file_extension": ".py",
   "mimetype": "text/x-python",
   "name": "python",
   "nbconvert_exporter": "python",
   "pygments_lexer": "ipython3",
   "version": "3.6.1"
  }
 },
 "nbformat": 4,
 "nbformat_minor": 2
}
