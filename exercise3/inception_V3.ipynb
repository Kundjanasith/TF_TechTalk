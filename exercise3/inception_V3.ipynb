{
 "cells": [
  {
   "cell_type": "markdown",
   "metadata": {},
   "source": [
    "# Inception V3\n",
    "Inception network is a deep neural network for image classification trained on ImageNet dataset. It's available for us to use. Let's try using this network!\n",
    "\n",
    "<br>\n",
    "<font color=red>\n",
    "__QUESTION: Try to classify images using the inception model. Does it work as expected?__\n",
    "</font>"
   ]
  },
  {
   "cell_type": "code",
   "execution_count": null,
   "metadata": {
    "collapsed": true
   },
   "outputs": [],
   "source": [
    "import matplotlib.image as mpimg\n",
    "import matplotlib.pyplot as plt\n",
    "import numpy as np\n",
    "\n",
    "from tensorflow.contrib.keras.python.keras.preprocessing import image\n",
    "from tensorflow.contrib.keras.python.keras.applications.inception_v3 import *\n",
    "\n",
    "%matplotlib inline\n",
    "\n",
    "model = InceptionV3(weights='imagenet')"
   ]
  },
  {
   "cell_type": "code",
   "execution_count": null,
   "metadata": {
    "collapsed": true
   },
   "outputs": [],
   "source": [
    "def show_img(img_path):\n",
    "    \"\"\"Shows the image from the given path.\"\"\"\n",
    "    img=mpimg.imread(img_path)\n",
    "    fig = plt.figure()\n",
    "    ax = fig.add_subplot(1,1,1)\n",
    "    ax.imshow(img)"
   ]
  },
  {
   "cell_type": "code",
   "execution_count": null,
   "metadata": {
    "collapsed": true
   },
   "outputs": [],
   "source": [
    "def make_prediction(img_path):\n",
    "    \"\"\"Prints InceptionV3 prediction for the given image.\"\"\"\n",
    "    show_img(img_path)\n",
    "    img = image.load_img(img_path, target_size=(299, 299))\n",
    "    x = image.img_to_array(img)\n",
    "    x = np.expand_dims(x, axis=0)\n",
    "    x = preprocess_input(x)\n",
    "    preds = model.predict(x)\n",
    "    print('Predicted:')\n",
    "    top = 5\n",
    "    for i in range(top):\n",
    "        print(decode_predictions(preds, top=top)[0][i])"
   ]
  }
 ],
 "metadata": {
  "kernelspec": {
   "display_name": "Python 3",
   "language": "python",
   "name": "python3"
  },
  "language_info": {
   "codemirror_mode": {
    "name": "ipython",
    "version": 3
   },
   "file_extension": ".py",
   "mimetype": "text/x-python",
   "name": "python",
   "nbconvert_exporter": "python",
   "pygments_lexer": "ipython3",
   "version": "3.5.4"
  }
 },
 "nbformat": 4,
 "nbformat_minor": 2
}
